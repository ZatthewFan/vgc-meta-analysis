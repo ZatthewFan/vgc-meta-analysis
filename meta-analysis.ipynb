{
 "cells": [
  {
   "cell_type": "markdown",
   "id": "d0163c32-6f66-4703-9796-bcd081be07cb",
   "metadata": {},
   "source": [
    "# Meta Analysis"
   ]
  },
  {
   "cell_type": "code",
   "execution_count": null,
   "id": "17fe94c6-ded0-4379-af3a-221625dc461c",
   "metadata": {},
   "outputs": [],
   "source": [
    "import matplotlib.pyplot as plt\n",
    "import pandas as pd\n",
    "import numpy as np\n",
    "from sklearn.model_selection import cross_val_score, cross_validate, train_test_split"
   ]
  }
 ],
 "metadata": {
  "kernelspec": {
   "display_name": "Python 3 (ipykernel)",
   "language": "python",
   "name": "python3"
  },
  "language_info": {
   "codemirror_mode": {
    "name": "ipython",
    "version": 3
   },
   "file_extension": ".py",
   "mimetype": "text/x-python",
   "name": "python",
   "nbconvert_exporter": "python",
   "pygments_lexer": "ipython3",
   "version": "3.12.0"
  }
 },
 "nbformat": 4,
 "nbformat_minor": 5
}
